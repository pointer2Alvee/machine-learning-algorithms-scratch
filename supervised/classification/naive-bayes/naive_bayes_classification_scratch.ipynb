{
 "cells": [
  {
   "cell_type": "markdown",
   "id": "737e2245",
   "metadata": {},
   "source": [
    "<b>Simple-Linear-Regression (SLR) - Scratch</b> <br>\n",
    "<i>Implementing linear regression using only NumPy, step-by-step. </i>"
   ]
  },
  {
   "cell_type": "markdown",
   "id": "96def8f7",
   "metadata": {},
   "source": [
    "<b>requirements</b>"
   ]
  },
  {
   "cell_type": "code",
   "execution_count": null,
   "id": "619f7c8e",
   "metadata": {},
   "outputs": [],
   "source": [
    "# example:- pip install numpy"
   ]
  },
  {
   "cell_type": "markdown",
   "id": "9d69f5fe",
   "metadata": {},
   "source": [
    "<b>imports</b>"
   ]
  },
  {
   "cell_type": "code",
   "execution_count": null,
   "id": "ce2316ea",
   "metadata": {},
   "outputs": [],
   "source": [
    "# imports\n",
    "import numpy as np\n",
    "import matplotlib.pyplot as plt\n",
    "import seaborn as sns\n",
    "import pandas as pd"
   ]
  },
  {
   "cell_type": "markdown",
   "id": "ac970ad7",
   "metadata": {},
   "source": [
    "<b>(1) DATA PRE-PROCESSING</b>"
   ]
  },
  {
   "cell_type": "code",
   "execution_count": null,
   "id": "0f454045",
   "metadata": {},
   "outputs": [],
   "source": [
    "# Synthetic Data\n",
    "X = np.linspace(0, 10, 50)\n",
    "y = 2.5 * X + np.random.randn(50) * 2\n",
    "\n",
    "# Load dataset .csv\n",
    "# df = pd.read_csv(\"linear_data.csv\")"
   ]
  },
  {
   "cell_type": "code",
   "execution_count": null,
   "id": "3da529c8",
   "metadata": {},
   "outputs": [],
   "source": [
    "# Data Pre-Processing\n",
    "X = X.reshape(-1, 1)\n",
    "y = y.reshape(-1, 1)\n",
    "\n",
    "# Normalize if needed\n",
    "# X = (X - X.mean()) / X.std()"
   ]
  },
  {
   "cell_type": "code",
   "execution_count": null,
   "id": "41017fe0",
   "metadata": {},
   "outputs": [],
   "source": [
    "# Data Visualization\n",
    "plt.scatter(X, y)\n",
    "plt.title(\"Input Data\")\n",
    "plt.show()"
   ]
  },
  {
   "cell_type": "markdown",
   "id": "63ad1bdc",
   "metadata": {},
   "source": [
    "<b>(2) ML ALGORITHM - SCRATCH</b>"
   ]
  },
  {
   "cell_type": "code",
   "execution_count": null,
   "id": "80864b28",
   "metadata": {},
   "outputs": [],
   "source": [
    "class LinearRegressionScratch:\n",
    "    def __init__(self, lr=0.01, epochs=1000):\n",
    "        self.lr = lr\n",
    "        self.epochs = epochs\n",
    "\n",
    "    def fit(self, X, y):\n",
    "        self.m = 0\n",
    "        self.b = 0\n",
    "        n = len(X)\n",
    "        for _ in range(self.epochs):\n",
    "            y_pred = self.m * X + self.b\n",
    "            error = y - y_pred\n",
    "            self.m += self.lr * (-2/n) * np.sum(X * error)\n",
    "            self.b += self.lr * (-2/n) * np.sum(error)\n",
    "\n",
    "    def predict(self, X):\n",
    "        return self.m * X + self.b"
   ]
  },
  {
   "cell_type": "markdown",
   "id": "6186f364",
   "metadata": {},
   "source": [
    "<b>(3) MODEL TRAINING</b>"
   ]
  },
  {
   "cell_type": "code",
   "execution_count": null,
   "id": "48929703",
   "metadata": {},
   "outputs": [],
   "source": [
    "model = LinearRegressionScratch(lr=0.01, epochs=1000)\n",
    "model.fit(X, y)"
   ]
  },
  {
   "cell_type": "markdown",
   "id": "44f690a9",
   "metadata": {},
   "source": [
    "<b>(4) PREDICTION</b>"
   ]
  },
  {
   "cell_type": "code",
   "execution_count": null,
   "id": "f3a80801",
   "metadata": {},
   "outputs": [],
   "source": [
    "y_pred = model.predict(X)"
   ]
  },
  {
   "cell_type": "markdown",
   "id": "4c104254",
   "metadata": {},
   "source": [
    "<b>(5) EVALUATION-VISUALIZATION</b>"
   ]
  },
  {
   "cell_type": "code",
   "execution_count": null,
   "id": "bf345156",
   "metadata": {},
   "outputs": [],
   "source": [
    "mse = np.mean((y - y_pred)**2)\n",
    "print(\"MSE:\", mse)"
   ]
  },
  {
   "cell_type": "code",
   "execution_count": null,
   "id": "0db0e83c",
   "metadata": {},
   "outputs": [],
   "source": [
    "plt.scatter(X, y, label=\"True\")\n",
    "plt.plot(X, y_pred, color=\"red\", label=\"Predicted\")\n",
    "plt.legend()\n",
    "plt.title(\"Regression Line\")\n",
    "plt.show()"
   ]
  },
  {
   "cell_type": "markdown",
   "id": "0320bd5c",
   "metadata": {},
   "source": [
    "<b>CONCLUSION</b>\n",
    "- The model performs well on linear data.\n",
    "- Next: try with non-linear data or compare with scikit-learn."
   ]
  }
 ],
 "metadata": {
  "kernelspec": {
   "display_name": "Python 3",
   "language": "python",
   "name": "python3"
  },
  "language_info": {
   "name": "python",
   "version": "3.10.11"
  }
 },
 "nbformat": 4,
 "nbformat_minor": 5
}
