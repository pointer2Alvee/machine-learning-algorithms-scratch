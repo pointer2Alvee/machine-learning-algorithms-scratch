{
 "cells": [
  {
   "cell_type": "markdown",
   "id": "737e2245",
   "metadata": {},
   "source": [
    "<b>Naive-Bayes-Classification (NBC) - Scratch</b> <br>\n",
    "<i>Implementing naive bayes classficiation using only NumPy, step-by-step. </i>"
   ]
  },
  {
   "cell_type": "markdown",
   "id": "96def8f7",
   "metadata": {},
   "source": [
    "<b>requirements</b>"
   ]
  },
  {
   "cell_type": "code",
   "execution_count": null,
   "id": "619f7c8e",
   "metadata": {},
   "outputs": [],
   "source": [
    "# example:- pip install numpy"
   ]
  },
  {
   "cell_type": "markdown",
   "id": "9d69f5fe",
   "metadata": {},
   "source": [
    "<b>imports</b>"
   ]
  },
  {
   "cell_type": "code",
   "execution_count": 1,
   "id": "ce2316ea",
   "metadata": {},
   "outputs": [],
   "source": [
    "# imports\n",
    "import numpy as np\n",
    "import pandas as pd\n",
    "import matplotlib.pyplot as plt\n",
    "from matplotlib.colors import ListedColormap\n",
    "from sklearn.model_selection import train_test_split\n",
    "from sklearn import datasets\n",
    "from collections import Counter"
   ]
  },
  {
   "cell_type": "markdown",
   "id": "ac970ad7",
   "metadata": {},
   "source": [
    "<b>(1) DATA PRE-PROCESSING</b>"
   ]
  },
  {
   "cell_type": "code",
   "execution_count": 4,
   "id": "0f454045",
   "metadata": {},
   "outputs": [],
   "source": [
    "# Read Raw Dataset - my dataset\n",
    "dataset  = pd.read_csv('../../../datasets/male_female.csv')\n",
    "\n",
    "# sklearn Dataset\n",
    "#X,y = datasets.make_classification(n_samples=1000, n_features=10, n_classes=4, n_informative=4, n_clusters_per_class=4, random_state=123)\n",
    "\n",
    "# Features (X) & Dependent-Variable(y)\n",
    "X = dataset.iloc[:, :3]\n",
    "y = dataset.iloc[:, -1]\n",
    "\n",
    "\n",
    "# Data-Splitting \n",
    "# sklearn Dataset X & y\n",
    "#X_train, X_test, y_train, y_test = train_test_split(X, y, test_size = 0.2, random_state = 1225)\n",
    "\n",
    "# Data Pre-Processing\n",
    "# Normalize (if needed)\n"
   ]
  },
  {
   "cell_type": "code",
   "execution_count": null,
   "id": "5e2125e2",
   "metadata": {},
   "outputs": [],
   "source": [
    "# Data Visualization\n",
    "# ## DataSet Analysis - Training Set\n",
    "# print(\"\\nDataSet Analysis - Training Set : \")\n",
    "# print(X_train.shape) # (120,4) = (rows,cols) = (datapoints,Features), 4-Features  [x1 x2 x3 x4]\n",
    "# print(X_train[0])    # First-Row with 4-Features like x_train[1] = [4.6  3.6  1.0  0.2]\n",
    "# print(y_train.shape) # (120) = (rows) = (datapoints), 1D Row or col Vector \n",
    "# print(y_train[0])    # First-element, shows the class-label (y+train) of the Features x_train[1]\n",
    "# print(y_train)       # 1D Vector with only 1 Row\n",
    "# print()\n",
    "\n",
    "# ## DataSet Analysis - Test Set\n",
    "# print(\"DataSet Analysis - Test Set : \")\n",
    "# print(X_test.shape) # (30,4) = (rows,cols) = (datapoints,Features), 4-Features  [x1 x2 x3 x4]\n",
    "# print(X_test[0])    # First-Row with 4-Features like x_test[1] = [4.6  3.6  1.0  0.2]\n",
    "# print(y_test.shape) # (30) = (rows) = (datapoints), 1D Row or col Vector \n",
    "# print(y_test[0])    # First-element, shows the class-label (y_test) of the Features x_test[1]\n",
    "# print(y_test)      # 1D Vector with only 1 Row\n",
    "# print()\n",
    "\n",
    "# ## DataSet Analysis - Plotting \n",
    "# plt.figure()\n",
    "# plt.scatter(X[:,0], X[:,1], c=y, cmap=cmap, edgecolors='k', s=20) # Plotting first 2-Features out of 4\n",
    "# plt.show()\n",
    "\n"
   ]
  },
  {
   "cell_type": "markdown",
   "id": "63ad1bdc",
   "metadata": {},
   "source": [
    "<b>(2) ML ALGORITHM - SCRATCH</b>"
   ]
  },
  {
   "cell_type": "code",
   "execution_count": 5,
   "id": "80864b28",
   "metadata": {},
   "outputs": [],
   "source": [
    "class NaiveBayes:\n",
    "    \n",
    "    # (2.1) Fit Model\n",
    "    def fit(self, X, y) -> None:\n",
    "        \"\"\"\n",
    "        Calculates Mean, Variance, Priors for each class. Uses X_train and y_train\n",
    "        The learned Mean, Variance, Priors from X_train and y_train is used to predict class label of X_test\n",
    "        \n",
    "        Parameters: \n",
    "            X : (np.array) Independent-Variable (Features)\n",
    "            y : (np.array) Dependent-Variable  (Class-labels)\n",
    "        \n",
    "        Returns:\n",
    "            None \n",
    "        \"\"\"\n",
    "        \n",
    "        # Rows-Cols of Features\n",
    "        n_data, n_features = X.shape\n",
    "        \n",
    "        # Class-labels \n",
    "        self._classes = np.unique(y)\n",
    "        n_classes = len(self._classes)\n",
    "        \n",
    "        # Initialize Mean, Variance, Priors\n",
    "        self._mean = np.zeros((n_classes, n_features), dtype=np.float64) # Each Class has mean of Inividual Features \n",
    "        self._var = np.zeros((n_classes, n_features), dtype=np.float64) \n",
    "        self._priors = np.zeros((n_classes), dtype=np.float64) \n",
    "        \n",
    "        # Calculate Mean, Variance, Prior\n",
    "        for idx, c in enumerate(self._classes):\n",
    "            \n",
    "            # Datapoints(rows of Features) corresponding to class c\n",
    "            X_c = X[c==y]\n",
    "            \n",
    "            # mean, var \n",
    "            self._mean[idx,:] = X_c.mean(axis=0) # np.mean(X_c, axis=0) # axis=0 is \"mean\" of each feature/col like (x1)\n",
    "            self._var[idx, :] = X_c.var(axis=0, ddof=1) # can also write np.var(X_c, axis=0, ddof=1) ddof=1(Bessel Correction)\n",
    "\n",
    "            # prior\n",
    "            self._priors[idx] = X_c.shape[0]/n_data\n",
    " \n",
    " \n",
    "    # (2.2) Making-Predictions\n",
    "    def predict(self, X) -> np.ndarray:\n",
    "        \"\"\"\n",
    "        Predicts the class-labels for given X. Here X is X_test set. Stores in y_pred list\n",
    "        \n",
    "        Parameters: \n",
    "            X : (np.array) Independent-Variable (Features) uppercase X = Multiple Datapoints (Feature-Matrix)\n",
    "        \n",
    "        Returns:\n",
    "            y_pred as a numpy array\n",
    "        \"\"\"\n",
    "        \n",
    "        # Predicting y_pred for all individual-elements(x) of X\n",
    "        y_pred = [self._predict(x) for x in X] # List Comprehension\n",
    "\n",
    "        # returns y_pred as np array\n",
    "        return np.array(y_pred)\n",
    "        \n",
    "        \n",
    "    # (2.3) Making-Single-Prediction\n",
    "    def _predict(self, x) -> list:\n",
    "        \"\"\"\n",
    "        Applys Bayes-Theorem for each class-label. Calculates Posterior for each Class \n",
    "        \n",
    "        Parameters: \n",
    "            x : (np.array) Independent-Variable (Features) lowercase  x = single Datapoint\n",
    "        \n",
    "        Returns:\n",
    "            Estimated or predicted Class Label as list or dict\n",
    "        \"\"\"\n",
    "        \n",
    "        # List Storing all Posterior Probabilities\n",
    "        posteriors = [] # can be dict as well\n",
    "        \n",
    "        # Calculate Posterior P(Y|X)\n",
    "\n",
    "        for c_idx, c in enumerate(self._classes):\n",
    "            \n",
    "            # Calc Prior for Class-Label C & log\n",
    "            prior = np.log(self._priors[c_idx])\n",
    "\n",
    "            # Calc Likelihood for Class-Label C & given Feature-vector X_test = x = (x1 x2 x3) & log\n",
    "            likelihood = np.sum(np.log(self._pdf(c_idx, x)))\n",
    "\n",
    "            # Calc Posterior for class C and Given Feature-vector X_test = x = (x1 x2 x3)\n",
    "            posterior  = likelihood + prior # sum due to log, orelse product\n",
    "            \n",
    "            # Add all posterior\n",
    "            posteriors.append(posterior)\n",
    "            \n",
    "        # Estiamte class from maximum of the posteriors\n",
    "        est_class_label = self._classes[np.argmax(posteriors)]\n",
    "        \n",
    "        # Return Estimated Class Label\n",
    "        return est_class_label\n",
    "       \n",
    "       \n",
    "    # (2.4) Probability-Distribution-Function (pdf)\n",
    "    def _pdf(self, class_index, x) -> float:\n",
    "        \"\"\"\n",
    "        Calculates Guassian Distribution (Gaussain pdf). Also called Normal Distribution\n",
    "        Can also use Bernoullie Distribution\n",
    "        \n",
    "        Parameters: \n",
    "            class_index : (int) Class index of classes c in self._classes. \n",
    "            x : (np.array) Independent-Variable (Features) lowercase  x = single Datapoint\n",
    "        \n",
    "        Returns:\n",
    "            Gaussian Distribution as float \n",
    "        \n",
    "        \"\"\"\n",
    "      \n",
    "        # Means & Variances of class[class_index]\n",
    "        mean = self._mean[class_index] # e.g- y1_mean = x1_mean, x2_mean, x3_mean\n",
    "        var = self._var[class_index]   # e.g- y1_var  = x1_var,  x2_var,  x3_var \n",
    "        \n",
    "        # Gaussian-Distribution\n",
    "        gauss_dist = (1/np.sqrt(2 * np.pi * var)) * np.exp(-(x-mean)**2/(2 * var))\n",
    "\n",
    "        print(f\"cls : {self._classes[class_index]} | Feature: {x} | gauss : {gauss_dist}\")\n",
    "        \n",
    "        # returns pdf\n",
    "        return gauss_dist \n"
   ]
  },
  {
   "cell_type": "markdown",
   "id": "6186f364",
   "metadata": {},
   "source": [
    "<b>(3) MODEL TRAINING</b>"
   ]
  },
  {
   "cell_type": "code",
   "execution_count": 6,
   "id": "48929703",
   "metadata": {},
   "outputs": [],
   "source": [
    "# my Custom Test set\n",
    "X_test = np.array([[6, 130, 8]]) # must be 2D array\n",
    "X_train = X\n",
    "y_train = y\n",
    "\n",
    "# Creating NaiveBayes Instance\n",
    "nb = NaiveBayes()\n",
    "\n",
    "# Fit (Training) The NaiveBayes model with the Training-Datasets\n",
    "nb.fit(X_train,y_train)\n"
   ]
  },
  {
   "cell_type": "markdown",
   "id": "44f690a9",
   "metadata": {},
   "source": [
    "<b>(4) PREDICTION</b>"
   ]
  },
  {
   "cell_type": "code",
   "execution_count": 7,
   "id": "f3a80801",
   "metadata": {},
   "outputs": [
    {
     "name": "stdout",
     "output_type": "stream",
     "text": [
      "cls : female | Feature: [  6 130   8] | gauss : [0.22345873 0.0167893  0.2866907 ]\n",
      "cls : male | Feature: [  6 130   8] | gauss : [1.57888318e+00 5.98674302e-06 1.31122104e-03]\n",
      "\n",
      "Predicted Class-Label : ['female']\n",
      "time elapsed : 2.999544143676758 ms\n",
      "\n"
     ]
    }
   ],
   "source": [
    "import time\n",
    "start = time.time()\n",
    "\n",
    "# Predicting on Test-Set using the trained NaiveBayes model (by the learned 'mean' 'var '& 'priors')\n",
    "predictions = nb.predict(X_test)\n",
    "print(f\"\\nPredicted Class-Label : {predictions}\")\n",
    "\n",
    "end = time.time()\n",
    "print(f\"time elapsed : {(end-start)*1000} ms\\n\")\n"
   ]
  },
  {
   "cell_type": "markdown",
   "id": "4c104254",
   "metadata": {},
   "source": [
    "<b>(5) EVALUATION-VISUALIZATION</b>"
   ]
  },
  {
   "cell_type": "code",
   "execution_count": null,
   "id": "bf345156",
   "metadata": {},
   "outputs": [],
   "source": [
    "#Metrics \n",
    "def accuracy(y_true, y_pred):\n",
    "    return np.sum(y_true == y_pred)/ len(y_true)\n",
    "#print(f\"accuracy : {accuracy(y_test,predictions)}\")\n",
    "\n",
    "# Accuracy\n",
    "# accuracy = np.sum(predictions == y_test) / len(y_test)\n",
    "# print(f\"accuracy : {accuracy*100} %\")"
   ]
  },
  {
   "cell_type": "markdown",
   "id": "0320bd5c",
   "metadata": {},
   "source": [
    "<b>CONCLUSION</b>\n",
    "- The model performs well"
   ]
  }
 ],
 "metadata": {
  "kernelspec": {
   "display_name": "Python 3",
   "language": "python",
   "name": "python3"
  },
  "language_info": {
   "codemirror_mode": {
    "name": "ipython",
    "version": 3
   },
   "file_extension": ".py",
   "mimetype": "text/x-python",
   "name": "python",
   "nbconvert_exporter": "python",
   "pygments_lexer": "ipython3",
   "version": "3.10.11"
  }
 },
 "nbformat": 4,
 "nbformat_minor": 5
}
